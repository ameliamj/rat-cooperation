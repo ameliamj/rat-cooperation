{
 "cells": [
  {
   "cell_type": "code",
   "execution_count": 1,
   "id": "16977394-a5bd-4617-8cef-07f1308fd145",
   "metadata": {},
   "outputs": [],
   "source": [
    "import sys\n",
    "sys.path.append('../../')"
   ]
  },
  {
   "cell_type": "code",
   "execution_count": 2,
   "id": "1e2ebeb5-b591-464f-bc9d-b16fd1eed7b9",
   "metadata": {},
   "outputs": [],
   "source": [
    "from src.classes.vid_loader import VidLoader \n",
    "from src.classes.pred_loader import PredLoader\n",
    "from src.classes.job_loader import JobLoader"
   ]
  },
  {
   "cell_type": "code",
   "execution_count": 3,
   "id": "4bf93d63-8987-4b31-b552-f8493e66a032",
   "metadata": {},
   "outputs": [],
   "source": [
    "color_id = 'collar' # or 'dyed' these are the two options"
   ]
  },
  {
   "cell_type": "code",
   "execution_count": 4,
   "id": "d57eee6d-75ae-4757-bbf8-fa9c46a3093a",
   "metadata": {},
   "outputs": [],
   "source": [
    "# get all of the videos \n",
    "vids = VidLoader(color_type=color_id, out=False)\n",
    "preds = PredLoader.from_vids(color_type=color_id, vid_loader=vids)\n",
    "# only have to get preds from vid the first time to create df then can use:\n",
    "# preds = PredLoader(color_id + '_preds_df.csv', color_type=color_id)\n",
    "jobs = JobLoader(color_id + '_preds_df.csv', color_type=color_id)"
   ]
  },
  {
   "cell_type": "code",
   "execution_count": 5,
   "id": "05a38ab0-0c8c-4e51-b4b4-46478fa5c214",
   "metadata": {},
   "outputs": [],
   "source": [
    "inst = 'multi' # or 'single'\n",
    "color_pair = 'GB' # can put None or leave blank for single inst\n",
    "write = False # will write script to job directory specified in global utils"
   ]
  },
  {
   "cell_type": "code",
   "execution_count": 6,
   "id": "8baf904b-099d-47cf-9dbd-cfcd671cf9fd",
   "metadata": {},
   "outputs": [],
   "source": [
    "# for all color pairs you want to generate jobs for\n",
    "job_commands = jobs.get_job_script(inst=inst, color_pair=color_pair, write=write)"
   ]
  },
  {
   "cell_type": "code",
   "execution_count": 7,
   "id": "74a06330-084e-4606-9367-c831e2a3cc97",
   "metadata": {},
   "outputs": [
    {
     "name": "stdout",
     "output_type": "stream",
     "text": [
      "0.0% of videos from GB have been tracked (0 tracked videos, 10 untracked videos)\n"
     ]
    }
   ],
   "source": [
    "# here you are running dsq jobs! then get the progress\n",
    "jobs.get_progress(inst, color_pair)"
   ]
  },
  {
   "cell_type": "code",
   "execution_count": null,
   "id": "2a9543ee-6b04-4a78-a46f-2be286e465fc",
   "metadata": {},
   "outputs": [],
   "source": []
  }
 ],
 "metadata": {
  "kernelspec": {
   "display_name": "Python 3 (ipykernel)",
   "language": "python",
   "name": "python3"
  },
  "language_info": {
   "codemirror_mode": {
    "name": "ipython",
    "version": 3
   },
   "file_extension": ".py",
   "mimetype": "text/x-python",
   "name": "python",
   "nbconvert_exporter": "python",
   "pygments_lexer": "ipython3",
   "version": "3.12.5"
  }
 },
 "nbformat": 4,
 "nbformat_minor": 5
}
