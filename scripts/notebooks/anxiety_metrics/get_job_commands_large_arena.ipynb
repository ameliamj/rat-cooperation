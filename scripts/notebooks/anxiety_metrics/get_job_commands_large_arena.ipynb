{
 "cells": [
  {
   "cell_type": "code",
   "execution_count": 8,
   "id": "16977394-a5bd-4617-8cef-07f1308fd145",
   "metadata": {},
   "outputs": [],
   "source": [
    "import sys\n",
    "sys.path.append('../../../')"
   ]
  },
  {
   "cell_type": "code",
   "execution_count": 9,
   "id": "1e2ebeb5-b591-464f-bc9d-b16fd1eed7b9",
   "metadata": {},
   "outputs": [],
   "source": [
    "from src.classes.large_arena import LargeArena \n",
    "from src.classes.pred_loader import PredLoader\n",
    "from src.classes.job_loader import JobLoader"
   ]
  },
  {
   "cell_type": "code",
   "execution_count": 10,
   "id": "4bf93d63-8987-4b31-b552-f8493e66a032",
   "metadata": {},
   "outputs": [],
   "source": [
    "color_id = 'dyed' # or 'dyed' these are the two options"
   ]
  },
  {
   "cell_type": "code",
   "execution_count": 11,
   "id": "d57eee6d-75ae-4757-bbf8-fa9c46a3093a",
   "metadata": {},
   "outputs": [],
   "source": [
    "# get all of the videos \n",
    "vids = LargeArena(color_type=color_id)\n",
    "preds = PredLoader.from_lg(large_arena=vids)\n",
    "# only have to get preds from vid the first time to create df then can use:\n",
    "# preds = PredLoader('large_arena' + '_preds_df.csv')\n",
    "jobs = JobLoader('large_arena' + '_preds_df.csv', color_type=color_id)"
   ]
  },
  {
   "cell_type": "code",
   "execution_count": 12,
   "id": "05a38ab0-0c8c-4e51-b4b4-46478fa5c214",
   "metadata": {},
   "outputs": [],
   "source": [
    "inst = 'single' # or 'single'\n",
    "color_pair = 'single' # can put None or leave blank for single inst\n",
    "write = True # will write script to job directory specified in global utils"
   ]
  },
  {
   "cell_type": "code",
   "execution_count": 9,
   "id": "8baf904b-099d-47cf-9dbd-cfcd671cf9fd",
   "metadata": {},
   "outputs": [],
   "source": [
    "# for all color pairs you want to generate jobs for\n",
    "job_commands = jobs.get_job_script(inst=inst, color_pair=color_pair, write=False)"
   ]
  },
  {
   "cell_type": "code",
   "execution_count": 13,
   "id": "74a06330-084e-4606-9367-c831e2a3cc97",
   "metadata": {},
   "outputs": [
    {
     "name": "stdout",
     "output_type": "stream",
     "text": [
      "99.85% of videos from single have been tracked (1310 tracked videos, 2 untracked videos)\n"
     ]
    }
   ],
   "source": [
    "# here you are running dsq jobs! then get the progress\n",
    "jobs.get_progress(inst, color_pair)"
   ]
  },
  {
   "cell_type": "code",
   "execution_count": 14,
   "id": "a019392d-a309-43b0-b4ee-ce9080a09b39",
   "metadata": {},
   "outputs": [
    {
     "data": {
      "text/html": [
       "<div>\n",
       "<style scoped>\n",
       "    .dataframe tbody tr th:only-of-type {\n",
       "        vertical-align: middle;\n",
       "    }\n",
       "\n",
       "    .dataframe tbody tr th {\n",
       "        vertical-align: top;\n",
       "    }\n",
       "\n",
       "    .dataframe thead th {\n",
       "        text-align: right;\n",
       "    }\n",
       "</style>\n",
       "<table border=\"1\" class=\"dataframe\">\n",
       "  <thead>\n",
       "    <tr style=\"text-align: right;\">\n",
       "      <th></th>\n",
       "      <th>vid</th>\n",
       "      <th>session</th>\n",
       "      <th>single/multi</th>\n",
       "      <th>test/train</th>\n",
       "      <th>pred</th>\n",
       "      <th>color pair</th>\n",
       "      <th>initial nan</th>\n",
       "      <th>vel nan</th>\n",
       "      <th>correct</th>\n",
       "      <th>final nan</th>\n",
       "    </tr>\n",
       "  </thead>\n",
       "  <tbody>\n",
       "    <tr>\n",
       "      <th>0</th>\n",
       "      <td>empty</td>\n",
       "      <td>empty</td>\n",
       "      <td>single</td>\n",
       "      <td>lg train</td>\n",
       "      <td>False</td>\n",
       "      <td>NaN</td>\n",
       "      <td>-1</td>\n",
       "      <td>-1</td>\n",
       "      <td>False</td>\n",
       "      <td>-1</td>\n",
       "    </tr>\n",
       "    <tr>\n",
       "      <th>51</th>\n",
       "      <td>010925_ISTRAIN_LARGEARENA_KM016Y_Camera2</td>\n",
       "      <td>010925</td>\n",
       "      <td>single</td>\n",
       "      <td>lg train</td>\n",
       "      <td>False</td>\n",
       "      <td>NaN</td>\n",
       "      <td>-1</td>\n",
       "      <td>-1</td>\n",
       "      <td>False</td>\n",
       "      <td>-1</td>\n",
       "    </tr>\n",
       "  </tbody>\n",
       "</table>\n",
       "</div>"
      ],
      "text/plain": [
       "                                         vid session single/multi test/train  \\\n",
       "0                                      empty   empty       single   lg train   \n",
       "51  010925_ISTRAIN_LARGEARENA_KM016Y_Camera2  010925       single   lg train   \n",
       "\n",
       "     pred  color pair  initial nan  vel nan  correct  final nan  \n",
       "0   False         NaN           -1       -1    False         -1  \n",
       "51  False         NaN           -1       -1    False         -1  "
      ]
     },
     "execution_count": 14,
     "metadata": {},
     "output_type": "execute_result"
    }
   ],
   "source": [
    "jobs.df[jobs.df['pred'] == False]"
   ]
  },
  {
   "cell_type": "code",
   "execution_count": null,
   "id": "31a99ec2-1d10-4e71-b950-d0dd81d7f67b",
   "metadata": {},
   "outputs": [],
   "source": [
    "# 51 --> its a zero second long vid\n",
    "# 163 --> is a video that exists...\n",
    "# 278 --> is a video that exists...\n",
    "# 296 --> is a video that exists...\n",
    "# 759 --> is a video but is 2 hours!! long!!\n",
    "# 939 --> is a video but also long\n",
    "\n",
    "# hypothesis: maybed the last 5 vids just timed out!"
   ]
  },
  {
   "cell_type": "code",
   "execution_count": 12,
   "id": "f2063a71-9f24-46d8-b4ec-431f9aca8a6b",
   "metadata": {},
   "outputs": [],
   "source": [
    "jobs.df.to_csv('large_arena' + '_preds_df.csv', index=False)"
   ]
  }
 ],
 "metadata": {
  "kernelspec": {
   "display_name": "Python 3 (ipykernel)",
   "language": "python",
   "name": "python3"
  },
  "language_info": {
   "codemirror_mode": {
    "name": "ipython",
    "version": 3
   },
   "file_extension": ".py",
   "mimetype": "text/x-python",
   "name": "python",
   "nbconvert_exporter": "python",
   "pygments_lexer": "ipython3",
   "version": "3.12.5"
  }
 },
 "nbformat": 4,
 "nbformat_minor": 5
}
