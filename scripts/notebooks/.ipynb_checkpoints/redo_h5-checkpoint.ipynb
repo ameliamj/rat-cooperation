{
 "cells": [
  {
   "cell_type": "markdown",
   "id": "27ff1aac-7da5-459f-8834-801cd148e918",
   "metadata": {},
   "source": [
    "Will print necessary linux command to recreate all of the h5 files in the case that we decide didn't like the error correction (reconverts the original, untouched slp files to h5 files that can be loaded in python). "
   ]
  },
  {
   "cell_type": "code",
   "execution_count": 23,
   "id": "0ecc1381-aea7-4234-8852-55f420464240",
   "metadata": {},
   "outputs": [],
   "source": [
    "import sys\n",
    "sys.path.append('../../')"
   ]
  },
  {
   "cell_type": "code",
   "execution_count": 25,
   "id": "68ef7f3e-d666-4190-9a71-557d6a90d03b",
   "metadata": {},
   "outputs": [],
   "source": [
    "from src.classes.vid_loader import VidLoader\n",
    "from src.utils.error_utils import get_vs"
   ]
  },
  {
   "cell_type": "code",
   "execution_count": 26,
   "id": "2429be6b-7231-4e5a-a2b6-78c0dd63a02d",
   "metadata": {},
   "outputs": [],
   "source": [
    "vids = VidLoader(out=False)"
   ]
  },
  {
   "cell_type": "code",
   "execution_count": 12,
   "id": "c3020470-f253-44b7-bfb1-c12693a859f1",
   "metadata": {},
   "outputs": [],
   "source": [
    "def print_convert(vid_dict, trial_type):\n",
    "    for key, value in vid_dict.items():\n",
    "        for vid in value:\n",
    "            t = 'PairedTestingSessions' if trial_type == 'test' else 'Training_COOPERATION'\n",
    "            v, s = get_vs(key, vid)\n",
    "            print(f\"sleap-convert --format analysis -o \\\"/gpfs/radev/pi/saxena/aj764/{t}/{s}/Tracking/h5/{v}.predictions.h5\\\" \\\"/gpfs/radev/pi/saxena/aj764/{t}/{s}/Tracking/slp/{v}.predictions.slp\\\"\")"
   ]
  },
  {
   "cell_type": "code",
   "execution_count": 13,
   "id": "49378a7b-9a2c-4638-9f86-ce8f6004959a",
   "metadata": {},
   "outputs": [],
   "source": [
    "# if doing in the command line, need to do below command first:\n",
    "# module load miniconda\n",
    "# conda load sleap_old"
   ]
  },
  {
   "cell_type": "code",
   "execution_count": null,
   "id": "9a50f2d1-421c-474a-b46b-255316dd7a8a",
   "metadata": {},
   "outputs": [],
   "source": [
    "print_convert(vids.pts_single_vids, 'test')\n",
    "print_convert(vids.pts_multi_vids, 'test')\n",
    "print_convert(vids.tc_multi_vids, 'train')"
   ]
  },
  {
   "cell_type": "code",
   "execution_count": null,
   "id": "05c36a92-15a6-446e-8349-ec3abb296c89",
   "metadata": {},
   "outputs": [],
   "source": []
  }
 ],
 "metadata": {
  "kernelspec": {
   "display_name": "Python 3 (ipykernel)",
   "language": "python",
   "name": "python3"
  },
  "language_info": {
   "codemirror_mode": {
    "name": "ipython",
    "version": 3
   },
   "file_extension": ".py",
   "mimetype": "text/x-python",
   "name": "python",
   "nbconvert_exporter": "python",
   "pygments_lexer": "ipython3",
   "version": "3.12.5"
  }
 },
 "nbformat": 4,
 "nbformat_minor": 5
}
